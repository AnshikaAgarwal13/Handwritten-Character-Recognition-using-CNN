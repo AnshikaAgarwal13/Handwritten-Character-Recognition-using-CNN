{
 "cells": [
  {
   "cell_type": "code",
   "execution_count": 1,
   "id": "40aadedf",
   "metadata": {
    "execution": {
     "iopub.execute_input": "2024-01-18T12:07:06.703715Z",
     "iopub.status.busy": "2024-01-18T12:07:06.703050Z",
     "iopub.status.idle": "2024-01-18T12:07:25.583017Z",
     "shell.execute_reply": "2024-01-18T12:07:25.581449Z"
    },
    "papermill": {
     "duration": 18.894117,
     "end_time": "2024-01-18T12:07:25.586020",
     "exception": false,
     "start_time": "2024-01-18T12:07:06.691903",
     "status": "completed"
    },
    "tags": []
   },
   "outputs": [],
   "source": [
    "import matplotlib.pyplot as plt\n",
    "import cv2\n",
    "import numpy as np\n",
    "from keras.models import Sequential\n",
    "from keras.layers import Dense, Flatten, Conv2D, MaxPool2D, Dropout\n",
    "from keras.optimizers import SGD, Adam\n",
    "from keras.callbacks import ReduceLROnPlateau, EarlyStopping\n",
    "from keras.utils import to_categorical\n",
    "import pandas as pd\n",
    "import numpy as np\n",
    "from sklearn.model_selection import train_test_split\n",
    "from sklearn.utils import shuffle"
   ]
  },
  {
   "cell_type": "markdown",
   "id": "d0e30bfe",
   "metadata": {
    "papermill": {
     "duration": 0.008222,
     "end_time": "2024-01-18T12:07:25.603763",
     "exception": false,
     "start_time": "2024-01-18T12:07:25.595541",
     "status": "completed"
    },
    "tags": []
   },
   "source": [
    "# **READ THE DATA**"
   ]
  },
  {
   "cell_type": "code",
   "execution_count": 2,
   "id": "48d1690a",
   "metadata": {
    "execution": {
     "iopub.execute_input": "2024-01-18T12:07:25.624146Z",
     "iopub.status.busy": "2024-01-18T12:07:25.623387Z",
     "iopub.status.idle": "2024-01-18T12:08:07.107942Z",
     "shell.execute_reply": "2024-01-18T12:08:07.106564Z"
    },
    "papermill": {
     "duration": 41.49811,
     "end_time": "2024-01-18T12:08:07.111072",
     "exception": false,
     "start_time": "2024-01-18T12:07:25.612962",
     "status": "completed"
    },
    "tags": []
   },
   "outputs": [],
   "source": [
    "file_path=(\"/kaggle/input/az-handwritten-alphabets-in-csv-format/A_Z Handwritten Data.csv\")\n",
    "\n",
    "data=pd.read_csv(file_path)"
   ]
  },
  {
   "cell_type": "code",
   "execution_count": 3,
   "id": "60ff718e",
   "metadata": {
    "execution": {
     "iopub.execute_input": "2024-01-18T12:08:07.131279Z",
     "iopub.status.busy": "2024-01-18T12:08:07.130800Z",
     "iopub.status.idle": "2024-01-18T12:08:07.164890Z",
     "shell.execute_reply": "2024-01-18T12:08:07.163473Z"
    },
    "papermill": {
     "duration": 0.047677,
     "end_time": "2024-01-18T12:08:07.167948",
     "exception": false,
     "start_time": "2024-01-18T12:08:07.120271",
     "status": "completed"
    },
    "tags": []
   },
   "outputs": [
    {
     "data": {
      "text/html": [
       "<div>\n",
       "<style scoped>\n",
       "    .dataframe tbody tr th:only-of-type {\n",
       "        vertical-align: middle;\n",
       "    }\n",
       "\n",
       "    .dataframe tbody tr th {\n",
       "        vertical-align: top;\n",
       "    }\n",
       "\n",
       "    .dataframe thead th {\n",
       "        text-align: right;\n",
       "    }\n",
       "</style>\n",
       "<table border=\"1\" class=\"dataframe\">\n",
       "  <thead>\n",
       "    <tr style=\"text-align: right;\">\n",
       "      <th></th>\n",
       "      <th>0</th>\n",
       "      <th>0.1</th>\n",
       "      <th>0.2</th>\n",
       "      <th>0.3</th>\n",
       "      <th>0.4</th>\n",
       "      <th>0.5</th>\n",
       "      <th>0.6</th>\n",
       "      <th>0.7</th>\n",
       "      <th>0.8</th>\n",
       "      <th>0.9</th>\n",
       "      <th>...</th>\n",
       "      <th>0.639</th>\n",
       "      <th>0.640</th>\n",
       "      <th>0.641</th>\n",
       "      <th>0.642</th>\n",
       "      <th>0.643</th>\n",
       "      <th>0.644</th>\n",
       "      <th>0.645</th>\n",
       "      <th>0.646</th>\n",
       "      <th>0.647</th>\n",
       "      <th>0.648</th>\n",
       "    </tr>\n",
       "  </thead>\n",
       "  <tbody>\n",
       "    <tr>\n",
       "      <th>0</th>\n",
       "      <td>0</td>\n",
       "      <td>0</td>\n",
       "      <td>0</td>\n",
       "      <td>0</td>\n",
       "      <td>0</td>\n",
       "      <td>0</td>\n",
       "      <td>0</td>\n",
       "      <td>0</td>\n",
       "      <td>0</td>\n",
       "      <td>0</td>\n",
       "      <td>...</td>\n",
       "      <td>0</td>\n",
       "      <td>0</td>\n",
       "      <td>0</td>\n",
       "      <td>0</td>\n",
       "      <td>0</td>\n",
       "      <td>0</td>\n",
       "      <td>0</td>\n",
       "      <td>0</td>\n",
       "      <td>0</td>\n",
       "      <td>0</td>\n",
       "    </tr>\n",
       "    <tr>\n",
       "      <th>1</th>\n",
       "      <td>0</td>\n",
       "      <td>0</td>\n",
       "      <td>0</td>\n",
       "      <td>0</td>\n",
       "      <td>0</td>\n",
       "      <td>0</td>\n",
       "      <td>0</td>\n",
       "      <td>0</td>\n",
       "      <td>0</td>\n",
       "      <td>0</td>\n",
       "      <td>...</td>\n",
       "      <td>0</td>\n",
       "      <td>0</td>\n",
       "      <td>0</td>\n",
       "      <td>0</td>\n",
       "      <td>0</td>\n",
       "      <td>0</td>\n",
       "      <td>0</td>\n",
       "      <td>0</td>\n",
       "      <td>0</td>\n",
       "      <td>0</td>\n",
       "    </tr>\n",
       "    <tr>\n",
       "      <th>2</th>\n",
       "      <td>0</td>\n",
       "      <td>0</td>\n",
       "      <td>0</td>\n",
       "      <td>0</td>\n",
       "      <td>0</td>\n",
       "      <td>0</td>\n",
       "      <td>0</td>\n",
       "      <td>0</td>\n",
       "      <td>0</td>\n",
       "      <td>0</td>\n",
       "      <td>...</td>\n",
       "      <td>0</td>\n",
       "      <td>0</td>\n",
       "      <td>0</td>\n",
       "      <td>0</td>\n",
       "      <td>0</td>\n",
       "      <td>0</td>\n",
       "      <td>0</td>\n",
       "      <td>0</td>\n",
       "      <td>0</td>\n",
       "      <td>0</td>\n",
       "    </tr>\n",
       "    <tr>\n",
       "      <th>3</th>\n",
       "      <td>0</td>\n",
       "      <td>0</td>\n",
       "      <td>0</td>\n",
       "      <td>0</td>\n",
       "      <td>0</td>\n",
       "      <td>0</td>\n",
       "      <td>0</td>\n",
       "      <td>0</td>\n",
       "      <td>0</td>\n",
       "      <td>0</td>\n",
       "      <td>...</td>\n",
       "      <td>0</td>\n",
       "      <td>0</td>\n",
       "      <td>0</td>\n",
       "      <td>0</td>\n",
       "      <td>0</td>\n",
       "      <td>0</td>\n",
       "      <td>0</td>\n",
       "      <td>0</td>\n",
       "      <td>0</td>\n",
       "      <td>0</td>\n",
       "    </tr>\n",
       "    <tr>\n",
       "      <th>4</th>\n",
       "      <td>0</td>\n",
       "      <td>0</td>\n",
       "      <td>0</td>\n",
       "      <td>0</td>\n",
       "      <td>0</td>\n",
       "      <td>0</td>\n",
       "      <td>0</td>\n",
       "      <td>0</td>\n",
       "      <td>0</td>\n",
       "      <td>0</td>\n",
       "      <td>...</td>\n",
       "      <td>0</td>\n",
       "      <td>0</td>\n",
       "      <td>0</td>\n",
       "      <td>0</td>\n",
       "      <td>0</td>\n",
       "      <td>0</td>\n",
       "      <td>0</td>\n",
       "      <td>0</td>\n",
       "      <td>0</td>\n",
       "      <td>0</td>\n",
       "    </tr>\n",
       "  </tbody>\n",
       "</table>\n",
       "<p>5 rows × 785 columns</p>\n",
       "</div>"
      ],
      "text/plain": [
       "   0  0.1  0.2  0.3  0.4  0.5  0.6  0.7  0.8  0.9  ...  0.639  0.640  0.641  \\\n",
       "0  0    0    0    0    0    0    0    0    0    0  ...      0      0      0   \n",
       "1  0    0    0    0    0    0    0    0    0    0  ...      0      0      0   \n",
       "2  0    0    0    0    0    0    0    0    0    0  ...      0      0      0   \n",
       "3  0    0    0    0    0    0    0    0    0    0  ...      0      0      0   \n",
       "4  0    0    0    0    0    0    0    0    0    0  ...      0      0      0   \n",
       "\n",
       "   0.642  0.643  0.644  0.645  0.646  0.647  0.648  \n",
       "0      0      0      0      0      0      0      0  \n",
       "1      0      0      0      0      0      0      0  \n",
       "2      0      0      0      0      0      0      0  \n",
       "3      0      0      0      0      0      0      0  \n",
       "4      0      0      0      0      0      0      0  \n",
       "\n",
       "[5 rows x 785 columns]"
      ]
     },
     "execution_count": 3,
     "metadata": {},
     "output_type": "execute_result"
    }
   ],
   "source": [
    "data.head()"
   ]
  },
  {
   "cell_type": "markdown",
   "id": "c5571a8e",
   "metadata": {
    "papermill": {
     "duration": 0.008666,
     "end_time": "2024-01-18T12:08:07.185747",
     "exception": false,
     "start_time": "2024-01-18T12:08:07.177081",
     "status": "completed"
    },
    "tags": []
   },
   "source": [
    "# **SPLIT DATA INTO IMAGES AND LABELS**"
   ]
  },
  {
   "cell_type": "code",
   "execution_count": 4,
   "id": "b4171900",
   "metadata": {
    "execution": {
     "iopub.execute_input": "2024-01-18T12:08:07.206145Z",
     "iopub.status.busy": "2024-01-18T12:08:07.205686Z",
     "iopub.status.idle": "2024-01-18T12:08:07.954816Z",
     "shell.execute_reply": "2024-01-18T12:08:07.953385Z"
    },
    "papermill": {
     "duration": 0.762773,
     "end_time": "2024-01-18T12:08:07.957913",
     "exception": false,
     "start_time": "2024-01-18T12:08:07.195140",
     "status": "completed"
    },
    "tags": []
   },
   "outputs": [],
   "source": [
    "features_data = data.drop('0',axis = 1)\n",
    "target_variable = data['0']"
   ]
  },
  {
   "cell_type": "code",
   "execution_count": 5,
   "id": "af074cde",
   "metadata": {
    "execution": {
     "iopub.execute_input": "2024-01-18T12:08:07.979196Z",
     "iopub.status.busy": "2024-01-18T12:08:07.978732Z",
     "iopub.status.idle": "2024-01-18T12:08:11.468483Z",
     "shell.execute_reply": "2024-01-18T12:08:11.466354Z"
    },
    "papermill": {
     "duration": 3.504265,
     "end_time": "2024-01-18T12:08:11.471787",
     "exception": false,
     "start_time": "2024-01-18T12:08:07.967522",
     "status": "completed"
    },
    "tags": []
   },
   "outputs": [
    {
     "name": "stdout",
     "output_type": "stream",
     "text": [
      "Train data shape:  (297960, 28, 28)\n",
      "Test data shape:  (74490, 28, 28)\n"
     ]
    }
   ],
   "source": [
    "train_features, test_features, train_target, test_target = train_test_split(features_data, target_variable, test_size = 0.2)\n",
    "\n",
    "train_features = np.reshape(train_features.values, (train_features.shape[0], 28,28))\n",
    "test_features = np.reshape(test_features.values, (test_features.shape[0], 28,28))\n",
    "\n",
    "print(\"Train data shape: \", train_features.shape)\n",
    "print(\"Test data shape: \", test_features.shape)"
   ]
  },
  {
   "cell_type": "code",
   "execution_count": 6,
   "id": "36babc0c",
   "metadata": {
    "execution": {
     "iopub.execute_input": "2024-01-18T12:08:11.493560Z",
     "iopub.status.busy": "2024-01-18T12:08:11.493111Z",
     "iopub.status.idle": "2024-01-18T12:08:11.501121Z",
     "shell.execute_reply": "2024-01-18T12:08:11.499742Z"
    },
    "papermill": {
     "duration": 0.021982,
     "end_time": "2024-01-18T12:08:11.504006",
     "exception": false,
     "start_time": "2024-01-18T12:08:11.482024",
     "status": "completed"
    },
    "tags": []
   },
   "outputs": [],
   "source": [
    "label_to_alphabet = {0:'A',1:'B',2:'C',3:'D',4:'E',5:'F',6:'G',7:'H',8:'I',9:'J',10:'K',11:'L',12:'M',13:'N',14:'O',15:'P',16:'Q',17:'R',18:'S',19:'T',20:'U',21:'V',22:'W',23:'X', 24:'Y',25:'Z'}"
   ]
  },
  {
   "cell_type": "markdown",
   "id": "773e5f3d",
   "metadata": {
    "papermill": {
     "duration": 0.008859,
     "end_time": "2024-01-18T12:08:11.522059",
     "exception": false,
     "start_time": "2024-01-18T12:08:11.513200",
     "status": "completed"
    },
    "tags": []
   },
   "source": [
    "# **PLOTTING THE DATA**"
   ]
  },
  {
   "cell_type": "code",
   "execution_count": 7,
   "id": "4a4f093b",
   "metadata": {
    "execution": {
     "iopub.execute_input": "2024-01-18T12:08:11.543758Z",
     "iopub.status.busy": "2024-01-18T12:08:11.543300Z",
     "iopub.status.idle": "2024-01-18T12:08:12.511887Z",
     "shell.execute_reply": "2024-01-18T12:08:12.510139Z"
    },
    "papermill": {
     "duration": 0.983195,
     "end_time": "2024-01-18T12:08:12.514847",
     "exception": false,
     "start_time": "2024-01-18T12:08:11.531652",
     "status": "completed"
    },
    "tags": []
   },
   "outputs": [
    {
     "data": {
      "image/png": "[encoded data removed]",
      "text/plain": [
       "<Figure size 1000x1000 with 1 Axes>"
      ]
     },
     "metadata": {},
     "output_type": "display_data"
    }
   ],
   "source": [
    "y_labels = np.intp(target_variable)\n",
    "label_count = np.zeros(26, dtype='int')\n",
    "for label in y_labels:\n",
    "    label_count[label] +=1\n",
    "\n",
    "alphabets_names = []\n",
    "for label in label_to_alphabet.values():\n",
    "    alphabets_names.append(label)\n",
    "\n",
    "fig, ax = plt.subplots(1,1, figsize=(10,10))\n",
    "ax.barh(alphabets_names, label_count)\n",
    "\n",
    "plt.xlabel(\"Number of elements \")\n",
    "plt.ylabel(\"Alphabets\")\n",
    "plt.grid()\n",
    "plt.show()"
   ]
  },
  {
   "cell_type": "markdown",
   "id": "5b1797f9",
   "metadata": {
    "papermill": {
     "duration": 0.010388,
     "end_time": "2024-01-18T12:08:12.536146",
     "exception": false,
     "start_time": "2024-01-18T12:08:12.525758",
     "status": "completed"
    },
    "tags": []
   },
   "source": [
    "# **SHUFFLING THE DATA**"
   ]
  },
  {
   "cell_type": "code",
   "execution_count": 8,
   "id": "a199d250",
   "metadata": {
    "execution": {
     "iopub.execute_input": "2024-01-18T12:08:12.559000Z",
     "iopub.status.busy": "2024-01-18T12:08:12.558036Z",
     "iopub.status.idle": "2024-01-18T12:08:13.981754Z",
     "shell.execute_reply": "2024-01-18T12:08:13.980422Z"
    },
    "papermill": {
     "duration": 1.438236,
     "end_time": "2024-01-18T12:08:13.984528",
     "exception": false,
     "start_time": "2024-01-18T12:08:12.546292",
     "status": "completed"
    },
    "tags": []
   },
   "outputs": [
    {
     "data": {
      "image/png": "[encoded data removed]",
      "text/plain": [
       "<Figure size 1000x1000 with 9 Axes>"
      ]
     },
     "metadata": {},
     "output_type": "display_data"
    }
   ],
   "source": [
    "shuffled_data = shuffle(train_features[:100])\n",
    "\n",
    "fig, ax = plt.subplots(3,3, figsize = (10,10))\n",
    "axes = ax.flatten()\n",
    "\n",
    "for i in range(9):\n",
    "    threshold_image = cv2.threshold(np.uint8(shuffled_data[i]), 30, 200, cv2.THRESH_BINARY)[1]\n",
    "    axes[i].imshow(np.reshape(shuffled_data[i], (28,28)), cmap=\"Greys\")\n",
    "plt.show()"
   ]
  },
  {
   "cell_type": "markdown",
   "id": "96923fc8",
   "metadata": {
    "papermill": {
     "duration": 0.011008,
     "end_time": "2024-01-18T12:08:14.006067",
     "exception": false,
     "start_time": "2024-01-18T12:08:13.995059",
     "status": "completed"
    },
    "tags": []
   },
   "source": [
    "# **DATA RESHAPING**"
   ]
  },
  {
   "cell_type": "code",
   "execution_count": 9,
   "id": "8606631f",
   "metadata": {
    "execution": {
     "iopub.execute_input": "2024-01-18T12:08:14.030652Z",
     "iopub.status.busy": "2024-01-18T12:08:14.030207Z",
     "iopub.status.idle": "2024-01-18T12:08:14.038064Z",
     "shell.execute_reply": "2024-01-18T12:08:14.036849Z"
    },
    "papermill": {
     "duration": 0.02361,
     "end_time": "2024-01-18T12:08:14.040513",
     "exception": false,
     "start_time": "2024-01-18T12:08:14.016903",
     "status": "completed"
    },
    "tags": []
   },
   "outputs": [
    {
     "name": "stdout",
     "output_type": "stream",
     "text": [
      "New shape of train data:  (297960, 28, 28, 1)\n",
      "New shape of train data:  (74490, 28, 28, 1)\n"
     ]
    }
   ],
   "source": [
    "reshaped_train_features = train_features.reshape(train_features.shape[0],train_features.shape[1],train_features.shape[2],1)\n",
    "print(\"New shape of train data: \", reshaped_train_features .shape)\n",
    "\n",
    "reshaped_test_features = test_features.reshape(test_features.shape[0], test_features.shape[1], test_features.shape[2],1)\n",
    "print(\"New shape of train data: \", reshaped_test_features.shape)\n"
   ]
  },
  {
   "cell_type": "code",
   "execution_count": 10,
   "id": "59481296",
   "metadata": {
    "execution": {
     "iopub.execute_input": "2024-01-18T12:08:14.064783Z",
     "iopub.status.busy": "2024-01-18T12:08:14.064326Z",
     "iopub.status.idle": "2024-01-18T12:08:14.092366Z",
     "shell.execute_reply": "2024-01-18T12:08:14.091077Z"
    },
    "papermill": {
     "duration": 0.043003,
     "end_time": "2024-01-18T12:08:14.094969",
     "exception": false,
     "start_time": "2024-01-18T12:08:14.051966",
     "status": "completed"
    },
    "tags": []
   },
   "outputs": [
    {
     "name": "stdout",
     "output_type": "stream",
     "text": [
      "New shape of train labels:  (297960, 26)\n",
      "New shape of test labels:  (74490, 26)\n"
     ]
    }
   ],
   "source": [
    "train_y_OHE = to_categorical(train_target, num_classes = 26, dtype='int')\n",
    "print(\"New shape of train labels: \", train_y_OHE.shape)\n",
    "\n",
    "test_y_OHE = to_categorical(test_target, num_classes = 26, dtype='int')\n",
    "print(\"New shape of test labels: \", test_y_OHE.shape)"
   ]
  },
  {
   "cell_type": "markdown",
   "id": "3592f013",
   "metadata": {
    "papermill": {
     "duration": 0.010151,
     "end_time": "2024-01-18T12:08:14.115627",
     "exception": false,
     "start_time": "2024-01-18T12:08:14.105476",
     "status": "completed"
    },
    "tags": []
   },
   "source": [
    "# **CREATE CNN MODEL**"
   ]
  },
  {
   "cell_type": "code",
   "execution_count": 11,
   "id": "185826fd",
   "metadata": {
    "execution": {
     "iopub.execute_input": "2024-01-18T12:08:14.139095Z",
     "iopub.status.busy": "2024-01-18T12:08:14.138627Z",
     "iopub.status.idle": "2024-01-18T12:08:14.450261Z",
     "shell.execute_reply": "2024-01-18T12:08:14.449098Z"
    },
    "papermill": {
     "duration": 0.327501,
     "end_time": "2024-01-18T12:08:14.453655",
     "exception": false,
     "start_time": "2024-01-18T12:08:14.126154",
     "status": "completed"
    },
    "tags": []
   },
   "outputs": [],
   "source": [
    "handwritten_model = Sequential()\n",
    "\n",
    "handwritten_model.add(Conv2D(filters=32, kernel_size=(3, 3), activation='relu', input_shape=(28,28,1)))\n",
    "handwritten_model.add(MaxPool2D(pool_size=(2, 2), strides=2))\n",
    "\n",
    "handwritten_model.add(Conv2D(filters=64, kernel_size=(3, 3), activation='relu', padding = 'same'))\n",
    "handwritten_model.add(MaxPool2D(pool_size=(2, 2), strides=2))\n",
    "\n",
    "handwritten_model.add(Conv2D(filters=128, kernel_size=(3, 3), activation='relu', padding = 'valid'))\n",
    "handwritten_model.add(MaxPool2D(pool_size=(2, 2), strides=2))\n",
    "\n",
    "handwritten_model.add(Flatten())\n",
    "\n",
    "handwritten_model.add(Dense(64,activation =\"relu\"))\n",
    "handwritten_model.add(Dense(128,activation =\"relu\"))\n",
    "\n",
    "handwritten_model.add(Dense(26,activation =\"softmax\"))"
   ]
  },
  {
   "cell_type": "markdown",
   "id": "e5b2b5b0",
   "metadata": {
    "papermill": {
     "duration": 0.010098,
     "end_time": "2024-01-18T12:08:14.474325",
     "exception": false,
     "start_time": "2024-01-18T12:08:14.464227",
     "status": "completed"
    },
    "tags": []
   },
   "source": [
    "# **COMPILING AND FITTING MODEL**"
   ]
  },
  {
   "cell_type": "code",
   "execution_count": 12,
   "id": "03917a02",
   "metadata": {
    "execution": {
     "iopub.execute_input": "2024-01-18T12:08:14.497782Z",
     "iopub.status.busy": "2024-01-18T12:08:14.497277Z",
     "iopub.status.idle": "2024-01-18T12:27:39.936159Z",
     "shell.execute_reply": "2024-01-18T12:27:39.934357Z"
    },
    "papermill": {
     "duration": 1167.093305,
     "end_time": "2024-01-18T12:27:41.578402",
     "exception": false,
     "start_time": "2024-01-18T12:08:14.485097",
     "status": "completed"
    },
    "tags": []
   },
   "outputs": [
    {
     "name": "stdout",
     "output_type": "stream",
     "text": [
      "Epoch 1/5\n",
      "9312/9312 [==============================] - 237s 25ms/step - loss: 0.1565 - accuracy: 0.9576 - val_loss: 0.0755 - val_accuracy: 0.9795\n",
      "Epoch 2/5\n",
      "9312/9312 [==============================] - 230s 25ms/step - loss: 0.0736 - accuracy: 0.9798 - val_loss: 0.0641 - val_accuracy: 0.9839\n",
      "Epoch 3/5\n",
      "9312/9312 [==============================] - 232s 25ms/step - loss: 0.0609 - accuracy: 0.9832 - val_loss: 0.0761 - val_accuracy: 0.9812\n",
      "Epoch 4/5\n",
      "9312/9312 [==============================] - 232s 25ms/step - loss: 0.0553 - accuracy: 0.9851 - val_loss: 0.0571 - val_accuracy: 0.9857\n",
      "Epoch 5/5\n",
      "9312/9312 [==============================] - 231s 25ms/step - loss: 0.0521 - accuracy: 0.9863 - val_loss: 0.0617 - val_accuracy: 0.9853\n"
     ]
    }
   ],
   "source": [
    "handwritten_model.compile(optimizer = Adam(learning_rate=0.001), loss='categorical_crossentropy', metrics=['accuracy'])\n",
    "\n",
    "training_progress = handwritten_model.fit(reshaped_train_features, train_y_OHE, epochs=5,  validation_data = (reshaped_test_features,test_y_OHE))"
   ]
  },
  {
   "cell_type": "code",
   "execution_count": 13,
   "id": "11ced85d",
   "metadata": {
    "execution": {
     "iopub.execute_input": "2024-01-18T12:27:44.980934Z",
     "iopub.status.busy": "2024-01-18T12:27:44.979838Z",
     "iopub.status.idle": "2024-01-18T12:27:45.161630Z",
     "shell.execute_reply": "2024-01-18T12:27:45.160440Z"
    },
    "papermill": {
     "duration": 1.847635,
     "end_time": "2024-01-18T12:27:45.164538",
     "exception": false,
     "start_time": "2024-01-18T12:27:43.316903",
     "status": "completed"
    },
    "tags": []
   },
   "outputs": [
    {
     "name": "stdout",
     "output_type": "stream",
     "text": [
      "Model: \"sequential\"\n",
      "_________________________________________________________________\n",
      " Layer (type)                Output Shape              Param #   \n",
      "=================================================================\n",
      " conv2d (Conv2D)             (None, 26, 26, 32)        320       \n",
      "                                                                 \n",
      " max_pooling2d (MaxPooling2  (None, 13, 13, 32)        0         \n",
      " D)                                                              \n",
      "                                                                 \n",
      " conv2d_1 (Conv2D)           (None, 13, 13, 64)        18496     \n",
      "                                                                 \n",
      " max_pooling2d_1 (MaxPoolin  (None, 6, 6, 64)          0         \n",
      " g2D)                                                            \n",
      "                                                                 \n",
      " conv2d_2 (Conv2D)           (None, 4, 4, 128)         73856     \n",
      "                                                                 \n",
      " max_pooling2d_2 (MaxPoolin  (None, 2, 2, 128)         0         \n",
      " g2D)                                                            \n",
      "                                                                 \n",
      " flatten (Flatten)           (None, 512)               0         \n",
      "                                                                 \n",
      " dense (Dense)               (None, 64)                32832     \n",
      "                                                                 \n",
      " dense_1 (Dense)             (None, 128)               8320      \n",
      "                                                                 \n",
      " dense_2 (Dense)             (None, 26)                3354      \n",
      "                                                                 \n",
      "=================================================================\n",
      "Total params: 137178 (535.85 KB)\n",
      "Trainable params: 137178 (535.85 KB)\n",
      "Non-trainable params: 0 (0.00 Byte)\n",
      "_________________________________________________________________\n"
     ]
    }
   ],
   "source": [
    "handwritten_model.summary()\n",
    "handwritten_model.save('my_model.keras')"
   ]
  },
  {
   "cell_type": "code",
   "execution_count": 14,
   "id": "e3f766a4",
   "metadata": {
    "execution": {
     "iopub.execute_input": "2024-01-18T12:27:48.641263Z",
     "iopub.status.busy": "2024-01-18T12:27:48.639920Z",
     "iopub.status.idle": "2024-01-18T12:27:48.648205Z",
     "shell.execute_reply": "2024-01-18T12:27:48.646956Z"
    },
    "papermill": {
     "duration": 1.739249,
     "end_time": "2024-01-18T12:27:48.650653",
     "exception": false,
     "start_time": "2024-01-18T12:27:46.911404",
     "status": "completed"
    },
    "tags": []
   },
   "outputs": [
    {
     "name": "stdout",
     "output_type": "stream",
     "text": [
      "The validation accuracy is : [0.9794871807098389, 0.9839038848876953, 0.9811652302742004, 0.9857296347618103, 0.9852597713470459]\n",
      "The training accuracy is : [0.9576184749603271, 0.9797691106796265, 0.9832192063331604, 0.9851322174072266, 0.9862532019615173]\n",
      "The validation loss is : [0.07545672357082367, 0.06414955109357834, 0.07606281340122223, 0.05713173747062683, 0.06168097257614136]\n",
      "The training loss is : [0.15648633241653442, 0.07356937229633331, 0.06085015460848808, 0.05525621771812439, 0.05205163732171059]\n"
     ]
    }
   ],
   "source": [
    "print(\"The validation accuracy is :\", training_progress.history['val_accuracy'])\n",
    "print(\"The training accuracy is :\", training_progress.history['accuracy'])\n",
    "print(\"The validation loss is :\", training_progress.history['val_loss'])\n",
    "print(\"The training loss is :\", training_progress.history['loss'])"
   ]
  },
  {
   "cell_type": "markdown",
   "id": "35d81e5e",
   "metadata": {
    "papermill": {
     "duration": 1.65793,
     "end_time": "2024-01-18T12:27:52.071355",
     "exception": false,
     "start_time": "2024-01-18T12:27:50.413425",
     "status": "completed"
    },
    "tags": []
   },
   "source": [
    "# **PREDICTIONS ON DATA**"
   ]
  },
  {
   "cell_type": "code",
   "execution_count": 15,
   "id": "fea851c1",
   "metadata": {
    "execution": {
     "iopub.execute_input": "2024-01-18T12:27:55.587324Z",
     "iopub.status.busy": "2024-01-18T12:27:55.586775Z",
     "iopub.status.idle": "2024-01-18T12:27:57.706259Z",
     "shell.execute_reply": "2024-01-18T12:27:57.704976Z"
    },
    "papermill": {
     "duration": 3.921967,
     "end_time": "2024-01-18T12:27:57.709400",
     "exception": false,
     "start_time": "2024-01-18T12:27:53.787433",
     "status": "completed"
    },
    "tags": []
   },
   "outputs": [
    {
     "data": {
      "image/png": "[encoded data removed]",
      "text/plain": [
       "<Figure size 800x900 with 9 Axes>"
      ]
     },
     "metadata": {},
     "output_type": "display_data"
    }
   ],
   "source": [
    "fig, axes = plt.subplots(3,3, figsize=(8,9))\n",
    "axes = axes.flatten()\n",
    "\n",
    "for index,ax in enumerate(axes):\n",
    "    current_image = np.reshape(reshaped_test_features[index], (28,28))\n",
    "    ax.imshow(current_image, cmap=\"Greys\")\n",
    "    \n",
    "    predicted_alphabet = label_to_alphabet[np.argmax(test_y_OHE[index])]\n",
    "    ax.set_title(\"Prediction: \"+predicted_alphabet)\n",
    "    ax.grid()"
   ]
  },
  {
   "cell_type": "markdown",
   "id": "0e5937fa",
   "metadata": {
    "papermill": {
     "duration": 1.749171,
     "end_time": "2024-01-18T12:28:01.105292",
     "exception": false,
     "start_time": "2024-01-18T12:27:59.356121",
     "status": "completed"
    },
    "tags": []
   },
   "source": [
    "# **PREDICTION ON EXTERNAL IMAGE**"
   ]
  },
  {
   "cell_type": "code",
   "execution_count": 16,
   "id": "0e69b580",
   "metadata": {
    "execution": {
     "iopub.execute_input": "2024-01-18T12:28:04.486944Z",
     "iopub.status.busy": "2024-01-18T12:28:04.485703Z",
     "iopub.status.idle": "2024-01-18T12:28:04.537488Z",
     "shell.execute_reply": "2024-01-18T12:28:04.536332Z"
    },
    "papermill": {
     "duration": 1.784369,
     "end_time": "2024-01-18T12:28:04.541313",
     "exception": false,
     "start_time": "2024-01-18T12:28:02.756944",
     "status": "completed"
    },
    "tags": []
   },
   "outputs": [],
   "source": [
    "original_image = cv2.imread(r'/kaggle/input/ext-image/Wn.png')\n",
    "image_copy = original_image.copy()\n",
    "\n",
    "rgb_image = cv2.cvtColor(original_image, cv2.COLOR_BGR2RGB)\n",
    "resized_image = cv2.resize(rgb_image, (400,440))"
   ]
  },
  {
   "cell_type": "code",
   "execution_count": 17,
   "id": "dae5fa01",
   "metadata": {
    "execution": {
     "iopub.execute_input": "2024-01-18T12:28:08.001890Z",
     "iopub.status.busy": "2024-01-18T12:28:08.001031Z",
     "iopub.status.idle": "2024-01-18T12:28:08.018339Z",
     "shell.execute_reply": "2024-01-18T12:28:08.017341Z"
    },
    "papermill": {
     "duration": 1.743954,
     "end_time": "2024-01-18T12:28:08.021059",
     "exception": false,
     "start_time": "2024-01-18T12:28:06.277105",
     "status": "completed"
    },
    "tags": []
   },
   "outputs": [],
   "source": [
    "blurred_image = cv2.GaussianBlur(image_copy, (7,7), 0)\n",
    "gray_image = cv2.cvtColor(blurred_image, cv2.COLOR_BGR2GRAY)\n",
    "_, binary_image = cv2.threshold(gray_image, 100, 255, cv2.THRESH_BINARY_INV)\n",
    "\n",
    "final_image = cv2.resize(binary_image, (28,28))\n",
    "final_image =np.reshape(final_image, (1,28,28,1))"
   ]
  },
  {
   "cell_type": "code",
   "execution_count": 18,
   "id": "2bf82d10",
   "metadata": {
    "execution": {
     "iopub.execute_input": "2024-01-18T12:28:11.422651Z",
     "iopub.status.busy": "2024-01-18T12:28:11.421572Z",
     "iopub.status.idle": "2024-01-18T12:28:11.973384Z",
     "shell.execute_reply": "2024-01-18T12:28:11.972079Z"
    },
    "papermill": {
     "duration": 2.30686,
     "end_time": "2024-01-18T12:28:11.976329",
     "exception": false,
     "start_time": "2024-01-18T12:28:09.669469",
     "status": "completed"
    },
    "tags": []
   },
   "outputs": [
    {
     "name": "stdout",
     "output_type": "stream",
     "text": [
      "1/1 [==============================] - 0s 161ms/step\n",
      "Prediction: W\n"
     ]
    },
    {
     "data": {
      "image/png": "[encoded data removed]",
      "text/plain": [
       "<Figure size 640x480 with 1 Axes>"
      ]
     },
     "metadata": {},
     "output_type": "display_data"
    }
   ],
   "source": [
    "img_pred = label_to_alphabet[np.argmax(handwritten_model.predict(final_image))]\n",
    "\n",
    "#print(\"Prediction:\",img_pred)\n",
    "cv2.putText(original_image, \"Image _ _ _ \", (20,25), cv2.FONT_HERSHEY_TRIPLEX, 0.7, color = (0,0,230))\n",
    "\n",
    "print(\"Prediction:\",img_pred)\n",
    "\n",
    "cv2.putText(original_image, \"Prediction: \" + img_pred, (20,410), cv2.FONT_HERSHEY_DUPLEX, 1.3, color = (255,0,30))\n",
    "#cv2.imshow('Handwritten character recognition _ _ _ ', img)\n",
    "\n",
    "plt.imshow(cv2.cvtColor(original_image, cv2.COLOR_BGR2RGB))\n",
    "plt.title('Handwritten character recognition _ _ _ ')\n",
    "plt.show()\n"
   ]
  }
 ],
 "metadata": {
  "kaggle": {
   "accelerator": "none",
   "dataSources": [
    {
     "datasetId": 9726,
     "sourceId": 17999,
     "sourceType": "datasetVersion"
    },
    {
     "datasetId": 4321792,
     "sourceId": 7427211,
     "sourceType": "datasetVersion"
    }
   ],
   "dockerImageVersionId": 30626,
   "isGpuEnabled": false,
   "isInternetEnabled": false,
   "language": "python",
   "sourceType": "notebook"
  },
  "kernelspec": {
   "display_name": "Python 3",
   "language": "python",
   "name": "python3"
  },
  "language_info": {
   "codemirror_mode": {
    "name": "ipython",
    "version": 3
   },
   "file_extension": ".py",
   "mimetype": "text/x-python",
   "name": "python",
   "nbconvert_exporter": "python",
   "pygments_lexer": "ipython3",
   "version": "3.10.12"
  },
  "papermill": {
   "default_parameters": {},
   "duration": 1274.399594,
   "end_time": "2024-01-18T12:28:16.700635",
   "environment_variables": {},
   "exception": null,
   "input_path": "__notebook__.ipynb",
   "output_path": "__notebook__.ipynb",
   "parameters": {},
   "start_time": "2024-01-18T12:07:02.301041",
   "version": "2.4.0"
  }
 },
 "nbformat": 4,
 "nbformat_minor": 5
}
